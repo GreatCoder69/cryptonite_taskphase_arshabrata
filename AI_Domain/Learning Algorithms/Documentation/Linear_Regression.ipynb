{
 "cells": [
  {
   "cell_type": "markdown",
   "metadata": {},
   "source": [
    "# Linear Regression\n",
    "## Introduction\n",
    "Linear regression is a statistical method used to model the relationship between a dependent variable and one or more independent variables. It assumes a linear relationship between the variables, meaning the change in the dependent variable is proportional to the change in the independent variable(s). This relationship is represented by a straight line, where the slope of the line indicates the strength and direction of the relationship."
   ]
  },
  {
   "cell_type": "markdown",
   "metadata": {},
   "source": [
    "## Explanation of Algorithm in Python\n",
    "### Import Required Libraries\n",
    "Import the necessary libraries: numpy for numerical operations, pandas for data manipulation, sklearn for the diabetes dataset, and matplotlib for plotting."
   ]
  },
  {
   "cell_type": "code",
   "execution_count": 4,
   "metadata": {},
   "outputs": [],
   "source": [
    "import numpy as np\n",
    "import pandas as pd\n",
    "import matplotlib.pyplot as plt"
   ]
  },
  {
   "cell_type": "markdown",
   "metadata": {},
   "source": [
    "### Read the Dataset\n",
    "Read the dataset using pandas and extract the features, target, and feature names."
   ]
  },
  {
   "cell_type": "code",
   "execution_count": 5,
   "metadata": {},
   "outputs": [],
   "source": [
    "data = pd.read_csv(r\"C:\\Users\\arsha\\OneDrive - Manipal Academy of Higher Education\\Desktop\\Cryptonite\\Sample_Datasets\\linear_reg_dataset.csv\")\n",
    "features = data.iloc[:, :-1].values\n",
    "target = data.iloc[:, -1].values\n",
    "feature_names = data.columns[:-1].tolist()"
   ]
  },
  {
   "cell_type": "markdown",
   "metadata": {},
   "source": [
    "### Correlation Analysis\n",
    "Perform correlation analysis between the features, ignoring self-correlation, and print the sorted correlations."
   ]
  },
  {
   "cell_type": "code",
   "execution_count": 6,
   "metadata": {},
   "outputs": [
    {
     "data": {
      "text/plain": [
       "Newspaper  Radio        0.354104\n",
       "Radio      Newspaper    0.354104\n",
       "TV         Newspaper    0.056648\n",
       "Newspaper  TV           0.056648\n",
       "TV         Radio        0.054809\n",
       "Radio      TV           0.054809\n",
       "TV         TV           0.000000\n",
       "Radio      Radio        0.000000\n",
       "Newspaper  Newspaper    0.000000\n",
       "dtype: float64"
      ]
     },
     "execution_count": 6,
     "metadata": {},
     "output_type": "execute_result"
    }
   ],
   "source": [
    "df = pd.DataFrame(features, columns=feature_names)\n",
    "correlation_matrix = df.corr()\n",
    "np.fill_diagonal(correlation_matrix.values, 0)\n",
    "sorted_correlation = correlation_matrix.unstack().sort_values(ascending=False, key=abs)\n",
    "sorted_correlation"
   ]
  },
  {
   "cell_type": "markdown",
   "metadata": {},
   "source": [
    "### Combine Features and Target for Shuffling\n",
    "Combine the features and target into a single dataset and shuffle the rows randomly."
   ]
  },
  {
   "cell_type": "code",
   "execution_count": 7,
   "metadata": {},
   "outputs": [
    {
     "data": {
      "text/plain": [
       "array([[193.2,  18.4,  65.7,  20.2],\n",
       "       [142.9,  29.3,  12.6,  15. ],\n",
       "       [213.4,  24.6,  13.1,  17. ],\n",
       "       [ 19.4,  16. ,  22.3,   6.6],\n",
       "       [177. ,  33.4,  38.7,  17.1],\n",
       "       [ 23.8,  35.1,  65.9,   9.2],\n",
       "       [216.4,  41.7,  39.6,  22.6],\n",
       "       [ 13.2,  15.9,  49.6,   5.6],\n",
       "       [168.4,   7.1,  12.8,  16.7],\n",
       "       [290.7,   4.1,   8.5,  17.8],\n",
       "       [ 75.5,  10.8,   6. ,  11.9],\n",
       "       [ 38.2,   3.7,  13.8,   7.6],\n",
       "       [239.3,  15.5,  27.3,  20.7],\n",
       "       [123.1,  34.6,  12.4,  15.2],\n",
       "       [121. ,   8.4,  48.7,  11.6],\n",
       "       [151.5,  41.3,  58.5,  16.5],\n",
       "       [ 39.5,  41.1,   5.8,  10.8],\n",
       "       [248.8,  27.1,  22.9,  18.9],\n",
       "       [180.8,  10.8,  58.4,  17.9],\n",
       "       [209.6,  20.6,  10.7,  20.9],\n",
       "       [239.8,   4.1,  36.9,  17.3],\n",
       "       [107.4,  14. ,  10.9,  11.5],\n",
       "       [ 16.9,  43.7,  89.4,   8.7],\n",
       "       [ 75.1,  35. ,  52.7,  12.6],\n",
       "       [ 28.6,   1.5,  33. ,   7.3],\n",
       "       [222.4,   3.4,  13.1,  16.5],\n",
       "       [283.6,  42. ,  66.2,  25.5],\n",
       "       [243.2,  49. ,  44.3,  25.4],\n",
       "       [ 67.8,  36.6, 114. ,  12.5],\n",
       "       [110.7,  40.6,  63.2,  16. ],\n",
       "       [289.7,  42.3,  51.2,  25.4],\n",
       "       [ 78.2,  46.8,  34.5,  14.6],\n",
       "       [225.8,   8.2,  56.5,  18.4],\n",
       "       [  0.7,  39.6,   8.7,   1.6],\n",
       "       [210.7,  29.5,   9.3,  18.4],\n",
       "       [286. ,  13.9,   3.7,  20.9],\n",
       "       [187.9,  17.2,  17.9,  19.7],\n",
       "       [228.3,  16.9,  26.2,  20.5],\n",
       "       [ 85.7,  35.8,  49.3,  13.3],\n",
       "       [253.8,  21.3,  30. ,  17.6],\n",
       "       [217.7,  33.5,  59. ,  19.4],\n",
       "       [131.7,  18.4,  34.6,  12.9],\n",
       "       [177. ,   9.3,   6.4,  14.8],\n",
       "       [ 56.2,   5.7,  29.7,   8.7],\n",
       "       [219.8,  33.5,  45.1,  19.6],\n",
       "       [ 62.3,  12.6,  18.3,   9.7],\n",
       "       [210.8,  49.6,  37.7,  23.8],\n",
       "       [ 31.5,  24.6,   2.2,  11. ],\n",
       "       [  7.8,  38.9,  50.6,   6.6],\n",
       "       [125.7,  36.9,  79.2,  15.9],\n",
       "       [  8.4,  27.2,   2.1,   5.7],\n",
       "       [202.5,  22.3,  31.6,  16.6],\n",
       "       [292.9,  28.3,  43.2,  21.4],\n",
       "       [120.5,  28.5,  14.2,  14.2],\n",
       "       [281.4,  39.6,  55.8,  24.4],\n",
       "       [ 53.5,   2. ,  21.4,   8.1],\n",
       "       [136.2,  19.2,  16.6,  13.2],\n",
       "       [137.9,  46.4,  59. ,  15. ],\n",
       "       [213.5,  43. ,  33.8,  21.7],\n",
       "       [293.6,  27.7,   1.8,  20.7],\n",
       "       [109.8,  47.8,  51.4,  16.7],\n",
       "       [ 76.4,   0.8,  14.8,   9.4],\n",
       "       [117.2,  14.7,   5.4,  11.9],\n",
       "       [102.7,  29.6,   8.4,  14. ],\n",
       "       [182.6,  46.2,  58.7,  21.2],\n",
       "       [199.8,   3.1,  34.6,  16.4],\n",
       "       [ 44.7,  25.8,  20.6,  10.1],\n",
       "       [215.4,  23.6,  57.6,  17.1],\n",
       "       [109.8,  14.3,  31.7,  12.4],\n",
       "       [ 68.4,  44.5,  35.6,  13.6],\n",
       "       [191.1,  28.7,  18.2,  17.3],\n",
       "       [164.5,  20.9,  47.4,  17.5],\n",
       "       [112.9,  17.4,  38.6,  11.9],\n",
       "       [199.1,  30.6,  38.7,  18.3],\n",
       "       [175.1,  22.5,  31.5,  16.1],\n",
       "       [188.4,  18.1,  25.6,  19.9],\n",
       "       [ 17.2,  45.9,  69.3,  12. ],\n",
       "       [  8.7,  48.9,  75. ,   7.2],\n",
       "       [255.4,  26.9,   5.5,  19.8],\n",
       "       [ 18.8,  21.7,  50.4,   7. ],\n",
       "       [198.9,  49.4,  60. ,  23.7],\n",
       "       [265.6,  20. ,   0.3,  17.4],\n",
       "       [ 17.2,   4.1,  31.6,   5.9],\n",
       "       [199.8,   2.6,  21.2,  15.6],\n",
       "       [147.3,  23.9,  19.1,  14.6],\n",
       "       [248.4,  30.2,  20.3,  20.2],\n",
       "       [ 96.2,  14.8,  38.9,  12.3],\n",
       "       [ 18.7,  12.1,  23.4,   6.7],\n",
       "       [ 57.5,  32.8,  23.5,  11.8],\n",
       "       [ 76.4,  26.7,  22.3,  11.8],\n",
       "       [165.6,  10. ,  17.6,  17.6],\n",
       "       [ 17.9,  37.6,  21.6,   8. ],\n",
       "       [228. ,  37.7,  32. ,  21.5],\n",
       "       [237.4,   5.1,  23.5,  17.5],\n",
       "       [ 59.6,  12. ,  43.1,   9.7],\n",
       "       [220.3,  49. ,   3.2,  24.7],\n",
       "       [265.2,   2.9,  43. ,  17.7],\n",
       "       [284.3,  10.6,   6.4,  20. ],\n",
       "       [280.7,  13.9,  37. ,  16.1],\n",
       "       [163.5,  36.8,   7.4,  18. ],\n",
       "       [ 19.6,  20.1,  17. ,   7.6],\n",
       "       [204.1,  32.9,  46. ,  19. ],\n",
       "       [129.4,   5.7,  31.3,  11. ],\n",
       "       [261.3,  42.7,  54.7,  24.2],\n",
       "       [227.2,  15.8,  49.9,  19.8],\n",
       "       [187.8,  21.1,   9.5,  20.6],\n",
       "       [172.5,  18.1,  30.7,  16.4],\n",
       "       [ 43.1,  26.7,  35.1,  10.1],\n",
       "       [135.2,  41.7,  45.9,  17.2],\n",
       "       [ 25. ,  11. ,  29.7,   7.2],\n",
       "       [197.6,   3.5,   5.9,  16.7],\n",
       "       [100.4,   9.6,   3.6,  10.7],\n",
       "       [ 94.2,   4.9,   8.1,  14. ],\n",
       "       [ 75.3,  20.3,  32.5,  11.3],\n",
       "       [216.8,  43.9,  27.2,  22.3],\n",
       "       [  4.1,  11.6,   5.7,   3.2],\n",
       "       [280.2,  10.1,  21.4,  19.8],\n",
       "       [ 73.4,  17. ,  12.9,  10.9],\n",
       "       [120.2,  19.6,  11.6,  13.2],\n",
       "       [131.1,  42.8,  28.9,  16. ],\n",
       "       [237.4,  27.5,  11. ,  18.9],\n",
       "       [262.7,  28.8,  15.9,  20.2],\n",
       "       [206.8,   5.2,  19.4,  17.2],\n",
       "       [104.6,   5.7,  34.4,  10.4],\n",
       "       [ 50. ,  11.6,  18.4,   8.4],\n",
       "       [197.6,  23.3,  14.2,  16.6],\n",
       "       [141.3,  26.8,  46.2,  15.5],\n",
       "       [218.5,   5.4,  27.4,  17.2],\n",
       "       [ 76.3,  27.5,  16. ,  12. ],\n",
       "       [  5.4,  29.9,   9.4,   5.3],\n",
       "       [184.9,  43.9,   1.7,  20.7],\n",
       "       [ 66.9,  11.7,  36.8,   9.7],\n",
       "       [195.4,  47.7,  52.9,  22.4],\n",
       "       [250.9,  36.5,  72.3,  22.2],\n",
       "       [222.4,   4.3,  49.8,  16.7],\n",
       "       [ 97.2,   1.5,  30. ,  13.2],\n",
       "       [262.9,   3.5,  19.5,  17. ],\n",
       "       [166.8,  42. ,   3.6,  19.6],\n",
       "       [175.7,  15.4,   2.4,  17.1],\n",
       "       [134.3,   4.9,   9.3,  14. ],\n",
       "       [ 80.2,   0. ,   9.2,  11.9],\n",
       "       [266.9,  43.8,   5. ,  25.4],\n",
       "       [273.7,  28.9,  59.7,  20.8],\n",
       "       [ 97.5,   7.6,   7.2,  13.7],\n",
       "       [238.2,  34.3,   5.3,  20.7],\n",
       "       [163.3,  31.6,  52.9,  16.9],\n",
       "       [ 89.7,   9.9,  35.7,  10.6],\n",
       "       [230.1,  37.8,  69.2,  22.1],\n",
       "       [206.9,   8.4,  26.4,  17.9],\n",
       "       [  8.6,   2.1,   1. ,   4.8],\n",
       "       [ 70.6,  16. ,  40.8,  10.5],\n",
       "       [ 74.7,  49.4,  45.7,  14.7],\n",
       "       [  7.3,  28.1,  41.4,   5.5],\n",
       "       [240.1,   7.3,   8.7,  18.2],\n",
       "       [232.1,   8.6,   8.7,  18.4],\n",
       "       [224. ,   2.4,  15.6,  16.6],\n",
       "       [ 11.7,  36.9,  45.2,   7.3],\n",
       "       [ 69. ,   9.3,   0.9,  11.3],\n",
       "       [276.9,  48.9,  41.8,  27. ],\n",
       "       [ 25.6,  39. ,   9.3,   9.5],\n",
       "       [156.6,   2.6,   8.3,  15.5],\n",
       "       [139.2,  14.3,  25.6,  12.2],\n",
       "       [240.1,  16.7,  22.9,  20.9],\n",
       "       [ 87.2,  11.8,  25.9,  10.6],\n",
       "       [ 44.5,  39.3,  45.1,  10.4],\n",
       "       [218.4,  27.7,  53.4,  18. ],\n",
       "       [296.4,  36.3, 100.9,  23.8],\n",
       "       [171.3,  39.7,  37.7,  16. ],\n",
       "       [239.9,  41.5,  18.5,  23.2],\n",
       "       [205. ,  45.1,  19.6,  22.6],\n",
       "       [149.7,  35.6,   6. ,  17.3],\n",
       "       [287.6,  43. ,  71.8,  26.2],\n",
       "       [ 43. ,  25.9,  20.5,   9.6],\n",
       "       [ 69.2,  20.5,  18.3,  11.3],\n",
       "       [139.3,  14.5,  10.2,  13.4],\n",
       "       [140.3,   1.9,   9. ,  10.3],\n",
       "       [170.2,   7.8,  35.2,  16.7],\n",
       "       [234.5,   3.4,  84.8,  16.9],\n",
       "       [ 27.5,   1.6,  20.7,   6.9],\n",
       "       [ 88.3,  25.5,  73.4,  12.9],\n",
       "       [ 38. ,  40.3,  11.9,  10.9],\n",
       "       [ 26.8,  33. ,  19.3,   8.8],\n",
       "       [116. ,   7.7,  23.1,  11. ],\n",
       "       [214.7,  24. ,   4. ,  17.4],\n",
       "       [ 93.9,  43.5,  50.5,  15.3],\n",
       "       [241.7,  38. ,  23.2,  21.8],\n",
       "       [276.7,   2.3,  23.7,  16.8],\n",
       "       [ 13.1,   0.4,  25.6,   5.3],\n",
       "       [ 48.3,  47. ,   8.5,  11.6],\n",
       "       [149.8,   1.3,  24.3,  10.1],\n",
       "       [184.9,  21. ,  22. ,  20.5],\n",
       "       [ 66.1,   5.8,  24.2,  12.6],\n",
       "       [193.7,  35.4,  75.6,  19.2],\n",
       "       [ 95.7,   1.4,   7.4,  11.9],\n",
       "       [ 25.1,  25.7,  43.3,   8.5],\n",
       "       [ 90.4,   0.3,  23.2,  12. ],\n",
       "       [220.5,  33.2,  37.9,  20.1],\n",
       "       [ 36.9,  38.6,  65.6,  10.8],\n",
       "       [139.5,   2.1,  26.6,  10.3],\n",
       "       [229.5,  32.3,  74.2,  19.7]])"
      ]
     },
     "execution_count": 7,
     "metadata": {},
     "output_type": "execute_result"
    }
   ],
   "source": [
    "dataset = np.hstack((features, target.reshape(-1, 1)))\n",
    "np.random.shuffle(dataset)\n",
    "dataset"
   ]
  },
  {
   "cell_type": "markdown",
   "metadata": {},
   "source": [
    "### Split Data into Features and Target\n",
    "Split the shuffled dataset back into features X and target y."
   ]
  },
  {
   "cell_type": "code",
   "execution_count": 8,
   "metadata": {},
   "outputs": [],
   "source": [
    "X = dataset[:, :-1]\n",
    "y = dataset[:, -1]"
   ]
  },
  {
   "cell_type": "markdown",
   "metadata": {},
   "source": [
    "### Normalize Features\n",
    "Normalize the features by subtracting the mean and dividing by the standard deviation, ensuring they have a mean of 0 and a standard deviation of 1."
   ]
  },
  {
   "cell_type": "code",
   "execution_count": 9,
   "metadata": {},
   "outputs": [],
   "source": [
    "X_mean = np.mean(X, axis=0)\n",
    "X_std = np.std(X, axis=0)\n",
    "X = (X - X_mean) / X_std"
   ]
  },
  {
   "cell_type": "markdown",
   "metadata": {},
   "source": [
    "### Train-Test Split\n",
    "Split the data into training and test sets (170 samples for training and 30 for testing)."
   ]
  },
  {
   "cell_type": "code",
   "execution_count": 10,
   "metadata": {},
   "outputs": [],
   "source": [
    "train_size = 170\n",
    "test_size = 30\n",
    "X_train, y_train = X[:train_size], y[:train_size]\n",
    "X_test, y_test = X[train_size:], y[train_size:]"
   ]
  },
  {
   "cell_type": "markdown",
   "metadata": {},
   "source": [
    "### Add Bias Term to Features\n",
    "Add a bias term (a column of ones) to the feature matrices for both the training and test sets."
   ]
  },
  {
   "cell_type": "code",
   "execution_count": 11,
   "metadata": {},
   "outputs": [],
   "source": [
    "X_train = np.hstack((np.ones((train_size, 1)), X_train))\n",
    "X_test = np.hstack((np.ones((test_size, 1)), X_test))"
   ]
  },
  {
   "cell_type": "markdown",
   "metadata": {},
   "source": [
    "### Initialize Parameters for Gradient Descent\n",
    "Initialize the weights (including the bias term), learning rate, and convergence threshold for the gradient descent algorithm."
   ]
  },
  {
   "cell_type": "code",
   "execution_count": 12,
   "metadata": {},
   "outputs": [],
   "source": [
    "num_features = X.shape[1]\n",
    "weights = np.zeros(num_features + 1)\n",
    "learning_rate = 0.01\n",
    "convergence_threshold = 1e-6"
   ]
  },
  {
   "cell_type": "markdown",
   "metadata": {},
   "source": [
    "### Perform Gradient Descent\n",
    "Perform gradient descent to minimize the cost function. Update the weights iteratively, stopping when the change in the cost function is below the convergence threshold."
   ]
  },
  {
   "cell_type": "code",
   "execution_count": 13,
   "metadata": {},
   "outputs": [],
   "source": [
    "prev_cost = float(\"inf\")\n",
    "while True:\n",
    "    predictions = X_train @ weights\n",
    "    errors = y_train - predictions\n",
    "    weights += (learning_rate / train_size) * (X_train.T @ errors)\n",
    "    \n",
    "    # Calculate Cost\n",
    "    current_cost = (1 / (2 * train_size)) * np.sum(errors**2)\n",
    "    if abs(current_cost - prev_cost) <= convergence_threshold:\n",
    "        break\n",
    "    prev_cost = current_cost"
   ]
  },
  {
   "cell_type": "markdown",
   "metadata": {},
   "source": [
    "### Make Predictions on Test Data\n",
    "Make predictions on the test set using the learned weights."
   ]
  },
  {
   "cell_type": "code",
   "execution_count": 14,
   "metadata": {},
   "outputs": [],
   "source": [
    "y_pred = X_test @ weights"
   ]
  },
  {
   "cell_type": "markdown",
   "metadata": {},
   "source": [
    "### Visualize Actual vs Predicted Values\n",
    "Plot the predicted vs actual values on a scatter plot and overlay a red line representing the ideal fit (y = x). This allows us to visualize how well the model's predictions match the actual values."
   ]
  },
  {
   "cell_type": "code",
   "execution_count": 15,
   "metadata": {},
   "outputs": [
    {
     "data": {
      "image/png": "[encoded data removed]",
      "text/plain": [
       "<Figure size 640x480 with 1 Axes>"
      ]
     },
     "metadata": {},
     "output_type": "display_data"
    }
   ],
   "source": [
    "plt.scatter(y_test, y_pred, alpha=0.5, label=\"Predicted vs Actual\")\n",
    "plt.plot([min(y_test), max(y_test)], [min(y_test), max(y_test)], color=\"red\", label=\"Ideal Fit\")\n",
    "plt.xlabel(\"Actual Values\")\n",
    "plt.ylabel(\"Predicted Values\")\n",
    "plt.title(\"Actual vs Predicted Values\")\n",
    "plt.legend()\n",
    "plt.show()"
   ]
  },
  {
   "cell_type": "markdown",
   "metadata": {},
   "source": [
    "# Theory for Linear Regression\n",
    "\n",
    "To perform supervised learning, we must decide how we’re going to represent functions/hypotheses $h$ in a computer. As an initial choice, let’s say we decide to approximate $y$ as a linear function of $x$:    \n",
    "$$ h_{\\theta}(x) = \\theta_0 + \\theta_1 x_1 + \\theta_2 x_2 $$\n",
    "\n",
    "Here, the $ \\theta_i $'s are the parameters (also called weights) parameterizing the space of linear functions mapping from $X$ to $Y$. In the following equation, let us consider $ \\theta $ and $ x $ to be vectors, and $ d $ is the number of input variables excluding $ x_0 $. To simplify our notation, we also introduce the convention of letting $ x_0 = 1 $ (intercept term), so that:  \n",
    "$$ h(x) = \\sum_{i=0}^{d} \\theta_i x_i = \\theta^T x $$\n",
    "\n",
    "To choose the parameters, we want to make $ h(x) $ close to $ y $, at least for the training examples we have. To formalize this, we will define a function that measures, for each value of the $ \\theta $'s, how close the $ h(x^{(i)}) $'s are to the corresponding $ y^{(i)} $'s. We define the cost function:  \n",
    "$$ J(\\theta) = \\frac{1}{2} \\sum_{i=1}^{n} \\left( h_{\\theta}(x^{(i)}) - y^{(i)} \\right)^2 $$  \n",
    "\n",
    "## Gradient Descent Algorithms\n",
    "\n",
    "Gradient descent is an optimization algorithm used to minimize the cost function of a machine learning model. The goal of gradient descent is to iteratively update the model's parameters in the direction of the negative gradient of the cost function.  \n",
    "\n",
    "### Batch Gradient Descent\n",
    "\n",
    "In Batch Gradient Descent, the model parameters are updated based on the average of the gradients computed using the entire dataset. This approach can be computationally expensive when dealing with large datasets but ensures convergence to the global minimum in convex functions.    \n",
    "Given the cost function $ J(\\theta) $, where $ \\theta $ represents the parameters (weights), and $ m $ is the number of training examples, the gradient descent update rule for Batch Gradient Descent is:  \n",
    "\n",
    "$$\n",
    "\\theta^{(t+1)} = \\theta^{(t)} - \\frac{\\alpha}{m} \\sum_{i=1}^{m} \\nabla_\\theta J(\\theta^{(t)}, x^{(i)}, y^{(i)})\n",
    "$$\n",
    "\n",
    "In this equation:  \n",
    "- $ \\theta^{(t)} $ is the current parameter vector at iteration $ t $,\n",
    "- $ \\alpha $ is the learning rate,\n",
    "- $ m $ is the total number of training examples,\n",
    "- $ \\nabla_\\theta J(\\theta^{(t)}, x^{(i)}, y^{(i)}) $ is the gradient of the cost function with respect to $ \\theta $ for the $ i $-th training example $ (x^{(i)}, y^{(i)}) $.\n",
    "\n",
    "In Batch Gradient Descent, the update step is computed using the entire dataset at each iteration.  \n",
    "\n",
    "### Stochastic Gradient Descent \n",
    "\n",
    "In Stochastic Gradient Descent, the model parameters are updated after computing the gradient using a single training example. This makes the algorithm much faster and allows it to start learning from the very first example. However, the updates are noisy and may not converge as smoothly as Batch Gradient Descent.  \n",
    "For Stochastic Gradient Descent, the update rule becomes:  \n",
    "\n",
    "$$\n",
    "\\theta^{(t+1)} = \\theta^{(t)} - \\alpha \\nabla_\\theta J(\\theta^{(t)}, x^{(i)}, y^{(i)})\n",
    "$$  \n",
    "\n",
    "In this equation:  \n",
    "- $ \\theta^{(t)} $ is the current parameter vector at iteration $ t $,\n",
    "- $ \\alpha $ is the learning rate,\n",
    "- $ \\nabla_\\theta J(\\theta^{(t)}, x^{(i)}, y^{(i)}) $ is the gradient of the cost function with respect to $ \\theta $ for the $ i $-th training example $ (x^{(i)}, y^{(i)}) $.\n",
    "\n",
    "In Stochastic Gradient Descent, the update is made using only a single training example $ (x^{(i)}, y^{(i)}) $ at each iteration. This results in faster updates but can lead to fluctuations in the cost function.  \n",
    "  "
   ]
  }
 ],
 "metadata": {
  "kernelspec": {
   "display_name": "Python 3",
   "language": "python",
   "name": "python3"
  },
  "language_info": {
   "codemirror_mode": {
    "name": "ipython",
    "version": 3
   },
   "file_extension": ".py",
   "mimetype": "text/x-python",
   "name": "python",
   "nbconvert_exporter": "python",
   "pygments_lexer": "ipython3",
   "version": "3.11.9"
  }
 },
 "nbformat": 4,
 "nbformat_minor": 2
}
