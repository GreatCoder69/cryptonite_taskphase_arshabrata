{
 "cells": [
  {
   "cell_type": "markdown",
   "metadata": {},
   "source": [
    "# Linear Regression\n",
    "## Introduction\n",
    "Bruhhhhh"
   ]
  },
  {
   "cell_type": "markdown",
   "metadata": {},
   "source": [
    "## Explanation of the Algorithm in Python\n",
    "### Import the libraries\n",
    "Import the necessary libraries like numpy, pandas, and matplotlib.\n"
   ]
  },
  {
   "cell_type": "code",
   "execution_count": 1,
   "metadata": {},
   "outputs": [],
   "source": [
    "import pandas as pd\n",
    "import numpy as np\n",
    "import matplotlib.pyplot as plt"
   ]
  },
  {
   "cell_type": "markdown",
   "metadata": {},
   "source": [
    "### Load the dataset\n",
    "We will load a dataset containing `Square_Footage` and `Price` columns, which we will use to predict the price of a house based on its square footage."
   ]
  },
  {
   "cell_type": "code",
   "execution_count": 3,
   "metadata": {},
   "outputs": [
    {
     "data": {
      "text/html": [
       "<div>\n",
       "<style scoped>\n",
       "    .dataframe tbody tr th:only-of-type {\n",
       "        vertical-align: middle;\n",
       "    }\n",
       "\n",
       "    .dataframe tbody tr th {\n",
       "        vertical-align: top;\n",
       "    }\n",
       "\n",
       "    .dataframe thead th {\n",
       "        text-align: right;\n",
       "    }\n",
       "</style>\n",
       "<table border=\"1\" class=\"dataframe\">\n",
       "  <thead>\n",
       "    <tr style=\"text-align: right;\">\n",
       "      <th></th>\n",
       "      <th>Square_Footage</th>\n",
       "      <th>Bedrooms</th>\n",
       "      <th>Bathrooms</th>\n",
       "      <th>Distance_to_City_Center</th>\n",
       "      <th>Property_Age</th>\n",
       "      <th>Price</th>\n",
       "    </tr>\n",
       "  </thead>\n",
       "  <tbody>\n",
       "    <tr>\n",
       "      <th>0</th>\n",
       "      <td>1810.890416</td>\n",
       "      <td>1</td>\n",
       "      <td>1</td>\n",
       "      <td>11.152274</td>\n",
       "      <td>50</td>\n",
       "      <td>237005.375209</td>\n",
       "    </tr>\n",
       "    <tr>\n",
       "      <th>1</th>\n",
       "      <td>3827.500072</td>\n",
       "      <td>4</td>\n",
       "      <td>1</td>\n",
       "      <td>19.707997</td>\n",
       "      <td>36</td>\n",
       "      <td>517833.541336</td>\n",
       "    </tr>\n",
       "    <tr>\n",
       "      <th>2</th>\n",
       "      <td>3061.978796</td>\n",
       "      <td>5</td>\n",
       "      <td>2</td>\n",
       "      <td>20.398798</td>\n",
       "      <td>21</td>\n",
       "      <td>528073.195946</td>\n",
       "    </tr>\n",
       "    <tr>\n",
       "      <th>3</th>\n",
       "      <td>2595.304695</td>\n",
       "      <td>4</td>\n",
       "      <td>3</td>\n",
       "      <td>26.060859</td>\n",
       "      <td>28</td>\n",
       "      <td>443818.751152</td>\n",
       "    </tr>\n",
       "    <tr>\n",
       "      <th>4</th>\n",
       "      <td>1046.065242</td>\n",
       "      <td>5</td>\n",
       "      <td>3</td>\n",
       "      <td>7.675373</td>\n",
       "      <td>13</td>\n",
       "      <td>317212.162612</td>\n",
       "    </tr>\n",
       "  </tbody>\n",
       "</table>\n",
       "</div>"
      ],
      "text/plain": [
       "   Square_Footage  Bedrooms  Bathrooms  Distance_to_City_Center  Property_Age  \\\n",
       "0     1810.890416         1          1                11.152274            50   \n",
       "1     3827.500072         4          1                19.707997            36   \n",
       "2     3061.978796         5          2                20.398798            21   \n",
       "3     2595.304695         4          3                26.060859            28   \n",
       "4     1046.065242         5          3                 7.675373            13   \n",
       "\n",
       "           Price  \n",
       "0  237005.375209  \n",
       "1  517833.541336  \n",
       "2  528073.195946  \n",
       "3  443818.751152  \n",
       "4  317212.162612  "
      ]
     },
     "execution_count": 3,
     "metadata": {},
     "output_type": "execute_result"
    }
   ],
   "source": [
    "data = pd.read_csv(r\"C:\\Users\\arsha\\OneDrive - Manipal Academy of Higher Education\\Desktop\\Cryptonite\\Sample_Datasets\\linear_reg_dataset.csv\")\n",
    "data.head()"
   ]
  },
  {
   "cell_type": "markdown",
   "metadata": {},
   "source": [
    "### Defining Variables\n",
    "We'll extract `Square_Footage` as our independent variable \\( x \\) and `Price` as our dependent variable \\( y \\).\n"
   ]
  },
  {
   "cell_type": "code",
   "execution_count": 4,
   "metadata": {},
   "outputs": [],
   "source": [
    "x = data['Square_Footage']\n",
    "y = data['Price']\n",
    "\n",
    "# Convert to NumPy arrays for easier calculations\n",
    "x = np.array(x)\n",
    "y = np.array(y)\n",
    "n = len(x)\n"
   ]
  },
  {
   "cell_type": "markdown",
   "metadata": {},
   "source": [
    "### Calculating Slope and Intercept\n",
    "![s05170811122024](https://a.okmd.dev/md/6732977e45f2f.png)\n"
   ]
  },
  {
   "cell_type": "code",
   "execution_count": 5,
   "metadata": {},
   "outputs": [
    {
     "name": "stdout",
     "output_type": "stream",
     "text": [
      "Slope (m): 104.57126631088809\n",
      "Intercept (b): 145591.87204940149\n"
     ]
    }
   ],
   "source": [
    "# Calculate means\n",
    "x_mean = np.mean(x)\n",
    "y_mean = np.mean(y)\n",
    "\n",
    "# Calculate slope (m) and intercept (b)\n",
    "numerator = np.sum((x - x_mean) * (y - y_mean))\n",
    "denominator = np.sum((x - x_mean) ** 2)\n",
    "m = numerator / denominator\n",
    "b = y_mean - (m * x_mean)\n",
    "\n",
    "print(f\"Slope (m): {m}\")\n",
    "print(f\"Intercept (b): {b}\")\n"
   ]
  },
  {
   "cell_type": "markdown",
   "metadata": {},
   "source": [
    "### Making Predictions\n",
    "![s05175911122024](https://a.okmd.dev/md/673297b0ac964.png)\n"
   ]
  },
  {
   "cell_type": "code",
   "execution_count": 6,
   "metadata": {},
   "outputs": [],
   "source": [
    "y_pred = m * x + b\n"
   ]
  },
  {
   "cell_type": "markdown",
   "metadata": {},
   "source": [
    "### Visualizing the Data and Regression Line\n",
    "We will plot the data points and overlay the linear regression line.\n"
   ]
  },
  {
   "cell_type": "code",
   "execution_count": 7,
   "metadata": {},
   "outputs": [
    {
     "data": {
      "image/png": "[encoded data removed]",
      "text/plain": [
       "<Figure size 1000x600 with 1 Axes>"
      ]
     },
     "metadata": {},
     "output_type": "display_data"
    }
   ],
   "source": [
    "plt.figure(figsize=(10, 6))\n",
    "plt.scatter(x, y, color='blue', label='Data Points')\n",
    "plt.plot(x, y_pred, color='red', label='Regression Line')\n",
    "plt.xlabel('Square Footage')\n",
    "plt.ylabel('Price')\n",
    "plt.title('Linear Regression Fit')\n",
    "plt.legend()\n",
    "plt.show()"
   ]
  }
 ],
 "metadata": {
  "kernelspec": {
   "display_name": "Python 3",
   "language": "python",
   "name": "python3"
  },
  "language_info": {
   "codemirror_mode": {
    "name": "ipython",
    "version": 3
   },
   "file_extension": ".py",
   "mimetype": "text/x-python",
   "name": "python",
   "nbconvert_exporter": "python",
   "pygments_lexer": "ipython3",
   "version": "3.11.9"
  }
 },
 "nbformat": 4,
 "nbformat_minor": 2
}
